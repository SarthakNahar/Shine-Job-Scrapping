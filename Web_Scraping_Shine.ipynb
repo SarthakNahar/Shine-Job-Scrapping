{
 "cells": [
  {
   "cell_type": "code",
   "execution_count": 6,
   "id": "8420977c",
   "metadata": {},
   "outputs": [],
   "source": [
    "import re\n",
    "import requests\n",
    "import numpy as np\n",
    "import pandas as pd\n",
    "from time import sleep\n",
    "from random import randint\n",
    "from bs4 import BeautifulSoup"
   ]
  },
  {
   "cell_type": "code",
   "execution_count": 7,
   "id": "aeafc7fa",
   "metadata": {},
   "outputs": [],
   "source": [
    "Job_Title = []\n",
    "Company_Name = []\n",
    "Job_Location = []\n",
    "Job_Experience = []"
   ]
  },
  {
   "cell_type": "code",
   "execution_count": 8,
   "id": "182cf6d8",
   "metadata": {},
   "outputs": [],
   "source": [
    "for i in range(0, 26):\n",
    "    url = \"https://www.shine.com/job-search/ai-engineer-jobs-in-india-\" + str(i) + \"?q=AI+Engineer&loc=India\"\n",
    "    sleep(randint(2,10))\n",
    "    \n",
    "    # Making a GET request\n",
    "    r = requests.get(url)\n",
    "\n",
    "    # check status code for response received\n",
    "    # success code - 200\n",
    "    # print(r)\n",
    "\n",
    "    # print content of request\n",
    "    htmlContent = r.content\n",
    "    # print(htmlContent)\n",
    "    \n",
    "    \n",
    "    \n",
    "    # Parse the HTML\n",
    "    soup = BeautifulSoup(htmlContent, 'html.parser')\n",
    "    # print(soup.prettify)\n",
    "    \n",
    "    \n",
    "    \n",
    "    # HTML Tree Traversal\n",
    "\n",
    "    # Get the Title of the HTML page\n",
    "    title = soup.title\n",
    "    # print(title.string)\n",
    "    \n",
    "    \n",
    "    \n",
    "    Job_Data = soup.findAll('div',attrs= {'class':'jobCard_jobCard__jjUmu white-box-border'})\n",
    "    # Job_Data\n",
    "    \n",
    "    \n",
    "    \n",
    "    for s in Job_Data:\n",
    "        title = s.h2.text\n",
    "        Job_Title.append(title)\n",
    "    \n",
    "        name = s.find('div',class_= 'jobCard_jobCard_cName__mYnow').text\n",
    "        Company_Name.append(name)\n",
    "        \n",
    "        location = s.find('div',class_ = 'jobCard_jobCard_lists_item__YxRkV jobCard_locationIcon__zrWt2').text\n",
    "        Job_Location.append(location)\n",
    "        \n",
    "        experience = s.find('div',class_ = 'jobCard_jobCard_lists_item__YxRkV jobCard_jobIcon__3FB1t').text\n",
    "        Job_Experience.append(experience)\n",
    "    \n",
    "    # print(Job_Title)\n",
    "    # print(Company_Name)\n",
    "    # print(Job_Location)\n",
    "    # print(Job_Experience)"
   ]
  },
  {
   "cell_type": "code",
   "execution_count": 9,
   "id": "9cd36b9c",
   "metadata": {},
   "outputs": [
    {
     "name": "stdout",
     "output_type": "stream",
     "text": [
      "   Sr. No.                                          Job Title  \\\n",
      "0        1                     Site Reliability Engineer (AI)   \n",
      "1        2     Artificial Intelligence (AI) Software Engineer   \n",
      "2        3  Senior Development Engineer in Test - Applicat...   \n",
      "3        4                       AI Developer/ Data Scientist   \n",
      "4        5  Front End Engineer_ reputed IT services and co...   \n",
      "\n",
      "                             Company Name Experience Required  \\\n",
      "0                             iManage LLC          3 to 5 Yrs   \n",
      "1  FuGenX Technologies Private Limited...          2 to 4 Yrs   \n",
      "2                               Noodle.ai          5 to 7 Yrs   \n",
      "3          OPEXAI BUSINESS CONSULTING LLP          3 to 5 Yrs   \n",
      "4                       Seven consultancy          2 to 7 Yrs   \n",
      "\n",
      "                                            Location  \n",
      "0                                            Chennai  \n",
      "1                                          Bangalore  \n",
      "2                                          Bangalore  \n",
      "3  Gurugram+5Mumbai City, Bangalore, Chennai, Hyd...  \n",
      "4                                            Kolkata  \n"
     ]
    }
   ],
   "source": [
    "data = {\n",
    "        'Sr. No.': [*range(1, len(Job_Title)+1)], \n",
    "        'Job Title': Job_Title, \n",
    "        'Company Name': Company_Name, \n",
    "        'Experience Required': Job_Experience, \n",
    "        'Location': Job_Location\n",
    "}\n",
    "\n",
    "df = pd.DataFrame(data)\n",
    "print(df.head(5))"
   ]
  },
  {
   "cell_type": "code",
   "execution_count": 10,
   "id": "51d0167e",
   "metadata": {},
   "outputs": [],
   "source": [
    "df.to_csv('Shine_Dataset.csv', index = False)"
   ]
  }
 ],
 "metadata": {
  "kernelspec": {
   "display_name": "Python 3 (ipykernel)",
   "language": "python",
   "name": "python3"
  },
  "language_info": {
   "codemirror_mode": {
    "name": "ipython",
    "version": 3
   },
   "file_extension": ".py",
   "mimetype": "text/x-python",
   "name": "python",
   "nbconvert_exporter": "python",
   "pygments_lexer": "ipython3",
   "version": "3.9.7"
  }
 },
 "nbformat": 4,
 "nbformat_minor": 5
}
